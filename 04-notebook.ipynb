{
 "cells": [
  {
   "cell_type": "markdown",
   "metadata": {},
   "source": [
    "---\n",
    "title: Linking Interactive Notebooks\n",
    "subtitle: Evolve markdown documents and notebooks into structured data\n",
    "author:\n",
    "  - name: Rowan Cockett\n",
    "    affiliations: Executable Books; Curvenote\n",
    "    orcid: 0000-0002-7859-8394\n",
    "    email: rowan@curvenote.com\n",
    "license:\n",
    "  code: MIT\n",
    "date: 2023-01-23\n",
    "---\n",
    "\n",
    "MyST allows you to directly include Jupyter Notebooks in your books, documents and websites.\n",
    "This Jupyter Notebook can be rendered directly using MyST.\n",
    "\n",
    "For example, let us import `altair` and create a demo of an interactive plot!\n",
    "\n",
    "> Please note that all of the data included in my project was either publicly collected or fictional for the purposes of demonstration only."
   ]
  },
  {
   "cell_type": "markdown",
   "metadata": {},
   "source": [
    "## Geodatabase\n",
    "\n",
    "### Base Map\n",
    "\n",
    "I used an imagery basemap from Esri with WGS84 web mercator for the coordinate and projection systems. Image resolution is 0.3 meters. \n",
    "\n",
    "Beyond the base map, working with feature layers is similar to Object Oriented Programming (OOP). Each feature is a class with its own attributes and methods. The attributes are what goes into the dataset for each feature. I’m not going into any methods in my case study because I’m focusing on building the geodatabase. \n",
    "\n",
    "So, I defined the basic attributes for each of the following seven feature classes. I also used subtypes and domains examples to classify the data and restrict data entry errors. I included the metadata for a few attributes for each class in the side panel below. I also included domains and subtypes when available. Please scroll down to see them.\n",
    "\n",
    "Please note that all of the data and attributes were fictional. None of the information is accurate or operational. It is intended only for demonstration purposes.\n",
    "\n",
    "```{code-cell}\n",
    ":tags: [\"hide-input\"]\n",
    "import geopandas as gpd\n",
    "import leafmap\n",
    "\n",
    "m = leafmap.Map(center=[32.7658, -117.2264], zoom=17)\n",
    "m.add_basemap(\"Esri.WorldImagery\")\n",
    "m\n",
    "```"
   ]
  },
  {
   "cell_type": "code",
   "execution_count": null,
   "metadata": {},
   "outputs": [],
   "source": []
  },
  {
   "cell_type": "code",
   "execution_count": null,
   "metadata": {},
   "outputs": [],
   "source": [
    "import altair as alt\n",
    "from vega_datasets import data\n",
    "\n",
    "source = data.cars()\n",
    "brush = alt.selection_interval(encodings=[\"x\"])\n",
    "points = (\n",
    "    alt.Chart(source)\n",
    "    .mark_point()\n",
    "    .encode(\n",
    "        x=\"Horsepower:Q\",\n",
    "        y=\"Miles_per_Gallon:Q\",\n",
    "        size=\"Acceleration\",\n",
    "        color=alt.condition(brush, \"Origin:N\", alt.value(\"lightgray\")),\n",
    "    )\n",
    "    .add_selection(brush)\n",
    ")\n",
    "\n",
    "bars = (\n",
    "    alt.Chart(source)\n",
    "    .mark_bar()\n",
    "    .encode(y=\"Origin:N\", color=\"Origin:N\", x=\"count(Origin):Q\")\n",
    "    .transform_filter(brush)\n",
    ")"
   ]
  },
  {
   "cell_type": "markdown",
   "metadata": {},
   "source": [
    "We can now plot the altair example, which is fully interactive, try dragging in the plot to select cars by their horsepower."
   ]
  },
  {
   "cell_type": "code",
   "execution_count": null,
   "metadata": {},
   "outputs": [],
   "source": [
    "# | label: horsepower\n",
    "points & bars"
   ]
  },
  {
   "cell_type": "code",
   "execution_count": null,
   "metadata": {},
   "outputs": [],
   "source": [
    "# https://matplotlib.org/stable/gallery/statistics/time_series_histogram.html#sphx-glr-gallery-statistics-time-series-histogram-py\n",
    "from copy import copy\n",
    "\n",
    "import numpy as np\n",
    "import numpy.matlib\n",
    "import matplotlib.pyplot as plt\n",
    "from matplotlib.colors import LogNorm"
   ]
  },
  {
   "cell_type": "markdown",
   "metadata": {},
   "source": [
    "Here we reference [plot output](#horsepower)"
   ]
  },
  {
   "cell_type": "code",
   "execution_count": null,
   "metadata": {},
   "outputs": [],
   "source": [
    "# Make some data; a 1D random walk + small fraction of sine waves\n",
    "num_series = 1000\n",
    "num_points = 100\n",
    "SNR = 0.10  # Signal to Noise Ratio\n",
    "x = np.linspace(0, 4 * np.pi, num_points)\n",
    "# Generate unbiased Gaussian random walks\n",
    "Y = np.cumsum(np.random.randn(num_series, num_points), axis=-1)\n",
    "# Generate sinusoidal signals\n",
    "num_signal = int(round(SNR * num_series))\n",
    "phi = (np.pi / 8) * np.random.randn(num_signal, 1)  # small random offset\n",
    "Y[-num_signal:] = np.sqrt(np.arange(num_points))[\n",
    "    None, :\n",
    "] * (  # random walk RMS scaling factor\n",
    "    np.sin(x[None, :] - phi) + 0.05 * np.random.randn(num_signal, num_points)\n",
    ")  # small random noise\n",
    "\n",
    "\n",
    "# Now we will convert the multiple time series into a histogram. Not only will\n",
    "# the hidden signal be more visible, but it is also a much quicker procedure.\n",
    "# Linearly interpolate between the points in each time series\n",
    "num_fine = 800\n",
    "x_fine = np.linspace(x.min(), x.max(), num_fine)\n",
    "y_fine = np.empty((num_series, num_fine), dtype=float)\n",
    "for i in range(num_series):\n",
    "    y_fine[i, :] = np.interp(x_fine, x, Y[i, :])\n",
    "y_fine = y_fine.flatten()\n",
    "x_fine = np.matlib.repmat(x_fine, num_series, 1).flatten()"
   ]
  },
  {
   "cell_type": "markdown",
   "metadata": {},
   "source": [
    "Important!\n",
    "This data is simulated, and may just be random noise! 🔊"
   ]
  },
  {
   "cell_type": "code",
   "execution_count": null,
   "metadata": {},
   "outputs": [],
   "source": [
    "# | label: plasma\n",
    "fig, axes = plt.subplots(figsize=(8, 4), constrained_layout=True)\n",
    "cmap = copy(plt.cm.plasma)\n",
    "cmap.set_bad(cmap(0))\n",
    "h, xedges, yedges = np.histogram2d(x_fine, y_fine, bins=[400, 100])\n",
    "pcm = axes.pcolormesh(\n",
    "    xedges, yedges, h.T, cmap=cmap, norm=LogNorm(vmax=1.5e2), rasterized=True\n",
    ")\n",
    "fig.colorbar(pcm, ax=axes, label=\"# points\", pad=0)\n",
    "axes.set_title(\"2d histogram and log color scale\");"
   ]
  },
  {
   "cell_type": "code",
   "execution_count": null,
   "metadata": {},
   "outputs": [],
   "source": [
    "import leafmap.foliumap as leafmap"
   ]
  },
  {
   "cell_type": "code",
   "execution_count": null,
   "metadata": {},
   "outputs": [],
   "source": [
    "m = leafmap.Map(height=600, center=[39.4948, -108.5492], zoom=12)\n",
    "url = \"https://github.com/opengeos/data/releases/download/raster/Libya-2023-07-01.tif\"\n",
    "url2 = \"https://github.com/opengeos/data/releases/download/raster/Libya-2023-09-13.tif\"\n",
    "m.split_map(url, url2)\n",
    "m"
   ]
  },
  {
   "cell_type": "code",
   "execution_count": null,
   "metadata": {},
   "outputs": [],
   "source": [
    "url = \"https://github.com/mohamadyassin/myst_airc/releases/download/data/FoodandBeverage.geojson\"\n",
    "m = leafmap.Map(center=[32.7658, -117.2264], zoom=17)\n",
    "point_style = {\n",
    "    \"radius\": 5,\n",
    "    \"color\": \"red\",\n",
    "    \"fillOpacity\": 0.8,\n",
    "    \"fillColor\": \"blue\",\n",
    "    \"weight\": 3,\n",
    "}\n",
    "hover_style = {\"fillColor\": \"yellow\", \"fillOpacity\": 1.0}\n",
    "m.add_geojson(\n",
    "    url, point_style=point_style, hover_style=hover_style, layer_name=\"FnB\"\n",
    ")\n",
    "\n",
    "m"
   ]
  }
 ],
 "metadata": {
  "kernelspec": {
   "display_name": "geo",
   "language": "python",
   "name": "python3"
  },
  "language_info": {
   "codemirror_mode": {
    "name": "ipython",
    "version": 3
   },
   "file_extension": ".py",
   "mimetype": "text/x-python",
   "name": "python",
   "nbconvert_exporter": "python",
   "pygments_lexer": "ipython3",
   "version": "3.11.8"
  }
 },
 "nbformat": 4,
 "nbformat_minor": 4
}
